{
 "cells": [
  {
   "cell_type": "code",
   "execution_count": 1,
   "id": "f6c133e0-aa94-45c3-94e8-7b04812152d6",
   "metadata": {},
   "outputs": [
    {
     "name": "stdout",
     "output_type": "stream",
     "text": [
      "abu siddig\n"
     ]
    }
   ],
   "source": [
    "fullname = 'abu siddig'\n",
    "print(fullname)"
   ]
  },
  {
   "cell_type": "code",
   "execution_count": null,
   "id": "67787766-8117-4609-9a82-486d6aad1854",
   "metadata": {},
   "outputs": [],
   "source": [
    "Condition for variables:\n",
    " 1) No Namespace while declaring the variables\n",
    " 2) A variable name should not start with a number\n",
    " 3) A varaible name should not contain special charcters"
   ]
  },
  {
   "cell_type": "code",
   "execution_count": 2,
   "id": "058937b4-12b0-4202-a08d-b75d08041a29",
   "metadata": {},
   "outputs": [
    {
     "ename": "SyntaxError",
     "evalue": "invalid syntax (91625403.py, line 1)",
     "output_type": "error",
     "traceback": [
      "\u001b[1;36m  Cell \u001b[1;32mIn[2], line 1\u001b[1;36m\u001b[0m\n\u001b[1;33m    full name = 'abu siddig'\u001b[0m\n\u001b[1;37m         ^\u001b[0m\n\u001b[1;31mSyntaxError\u001b[0m\u001b[1;31m:\u001b[0m invalid syntax\n"
     ]
    }
   ],
   "source": [
    "full name = 'abu siddig'\n",
    "print(full name)"
   ]
  },
  {
   "cell_type": "code",
   "execution_count": 3,
   "id": "5c6db937-0b56-4da9-8585-d3cc58de1c5c",
   "metadata": {},
   "outputs": [
    {
     "ename": "SyntaxError",
     "evalue": "invalid decimal literal (2916292818.py, line 1)",
     "output_type": "error",
     "traceback": [
      "\u001b[1;36m  Cell \u001b[1;32mIn[3], line 1\u001b[1;36m\u001b[0m\n\u001b[1;33m    1name = 'abu  siddig'\u001b[0m\n\u001b[1;37m    ^\u001b[0m\n\u001b[1;31mSyntaxError\u001b[0m\u001b[1;31m:\u001b[0m invalid decimal literal\n"
     ]
    }
   ],
   "source": [
    "1name = 'abu  siddig'\n",
    "print(1name)"
   ]
  },
  {
   "cell_type": "code",
   "execution_count": null,
   "id": "8bd70a92-04a3-463c-8f52-53333b13fd0f",
   "metadata": {},
   "outputs": [],
   "source": [
    "Datatypes: \n",
    "\n",
    "1. strings ===> str\n",
    "2. numbers =====> Integers ---> int and floats(decimals) --> 0.1,0.2 ====> floot\n",
    "3) lists ====>list\n",
    "4) tuples ===> tuple\n",
    "5) Dictionary ===> dict"
   ]
  },
  {
   "cell_type": "code",
   "execution_count": null,
   "id": "148b4e7b-2b76-44b9-a8bc-d27718494dbf",
   "metadata": {},
   "outputs": [],
   "source": [
    "Classification of datatypes:\n",
    "  Broadly datatypes are classified in to two categeroeis\n",
    "\t1> Mutable datatypes ===> these are flexible in nature ===> which we can edit and alter\n",
    "\t2> immutable datatypes ===> these are fixed in nature ==> which we cannot be able to edit and alter"
   ]
  },
  {
   "cell_type": "code",
   "execution_count": null,
   "id": "0f2fb5e9-6b7d-48bd-89d5-54d1f9420a51",
   "metadata": {},
   "outputs": [],
   "source": [
    "Introduction to String datatypes:\n",
    "\n",
    "defination : A string is a series of charcters declared in quotes.\n",
    "\n",
    "Classification : it is classified as an immutable datatype\n",
    "\n",
    "how to declare the string ...?\n",
    "\n",
    "2 approaches : \n",
    " \n",
    "\t1) Single quotes 'sekhar'\n",
    "\t2) double quotes \"zainab\""
   ]
  },
  {
   "cell_type": "code",
   "execution_count": null,
   "id": "7200170e-5c63-4821-aa73-d754c9d09872",
   "metadata": {},
   "outputs": [],
   "source": [
    "Introduction to string methods :\n",
    "\n",
    "type(firstname)\n",
    "str\n",
    "\n",
    "type(name)\n",
    "str"
   ]
  },
  {
   "cell_type": "code",
   "execution_count": 4,
   "id": "87f402c4-d1d5-4b70-9252-4ec0c0351a33",
   "metadata": {},
   "outputs": [
    {
     "name": "stdout",
     "output_type": "stream",
     "text": [
      "Abu Siddig\n"
     ]
    }
   ],
   "source": [
    "fullname = 'abu siddig'\n",
    "print(fullname.title())"
   ]
  },
  {
   "cell_type": "code",
   "execution_count": 5,
   "id": "a93088d7-bfbe-4021-9d8f-5337ac840ca6",
   "metadata": {},
   "outputs": [
    {
     "name": "stdout",
     "output_type": "stream",
     "text": [
      "Abu Siddig\n",
      "ABU SIDDIG\n",
      "abu siddig\n"
     ]
    }
   ],
   "source": [
    "fullname = 'abu siddig'\n",
    "print(fullname.title())\n",
    "print(fullname.upper())\n",
    "print(fullname.lower())"
   ]
  },
  {
   "cell_type": "code",
   "execution_count": null,
   "id": "9cae839b-add4-431d-84e0-ccd34219fe1a",
   "metadata": {},
   "outputs": [],
   "source": []
  }
 ],
 "metadata": {
  "kernelspec": {
   "display_name": "Python 3 (ipykernel)",
   "language": "python",
   "name": "python3"
  },
  "language_info": {
   "codemirror_mode": {
    "name": "ipython",
    "version": 3
   },
   "file_extension": ".py",
   "mimetype": "text/x-python",
   "name": "python",
   "nbconvert_exporter": "python",
   "pygments_lexer": "ipython3",
   "version": "3.12.7"
  }
 },
 "nbformat": 4,
 "nbformat_minor": 5
}
